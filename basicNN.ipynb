{
 "cells": [
  {
   "cell_type": "code",
   "execution_count": 1,
   "metadata": {},
   "outputs": [
    {
     "name": "stderr",
     "output_type": "stream",
     "text": [
      "e:\\Anaconda\\lib\\site-packages\\h5py\\__init__.py:36: FutureWarning: Conversion of the second argument of issubdtype from `float` to `np.floating` is deprecated. In future, it will be treated as `np.float64 == np.dtype(float).type`.\n",
      "  from ._conv import register_converters as _register_converters\n",
      "Using TensorFlow backend.\n"
     ]
    }
   ],
   "source": [
    "from keras.models import Sequential\n",
    "from keras.layers import Dense, Activation"
   ]
  },
  {
   "cell_type": "code",
   "execution_count": 54,
   "metadata": {},
   "outputs": [],
   "source": [
    "model = Sequential()\n",
    "model.add(Dense(2, activation='relu', input_dim=2))\n",
    "model.add(Dense(1, activation='sigmoid'))"
   ]
  },
  {
   "cell_type": "code",
   "execution_count": 55,
   "metadata": {},
   "outputs": [],
   "source": [
    "model.compile(optimizer='rmsprop',\n",
    "              loss='binary_crossentropy',\n",
    "              metrics=['accuracy'])"
   ]
  },
  {
   "cell_type": "code",
   "execution_count": 60,
   "metadata": {},
   "outputs": [],
   "source": [
    "# Generate dummy data\n",
    "import numpy as np\n",
    "data = np.asarray([[1,1],[1,0],[0,1],[0,0]])\n",
    "labels = np.asarray([1,0,0,0])"
   ]
  },
  {
   "cell_type": "code",
   "execution_count": 57,
   "metadata": {},
   "outputs": [
    {
     "data": {
      "text/plain": [
       "array([[0.06624713, 0.75593827],\n",
       "       [0.41957186, 0.63562561],\n",
       "       [0.28725344, 0.43429412],\n",
       "       ...,\n",
       "       [0.77433805, 0.42513337],\n",
       "       [0.05022719, 0.76089175],\n",
       "       [0.1512488 , 0.95561841]])"
      ]
     },
     "execution_count": 57,
     "metadata": {},
     "output_type": "execute_result"
    }
   ],
   "source": [
    "data"
   ]
  },
  {
   "cell_type": "code",
   "execution_count": 61,
   "metadata": {},
   "outputs": [
    {
     "name": "stdout",
     "output_type": "stream",
     "text": [
      "Epoch 1/10\n",
      "4/4 [==============================] - 0s 0us/step - loss: 0.6870 - acc: 0.7500\n",
      "Epoch 2/10\n",
      "4/4 [==============================] - 0s 0us/step - loss: 0.6865 - acc: 0.7500\n",
      "Epoch 3/10\n",
      "4/4 [==============================] - 0s 0us/step - loss: 0.6860 - acc: 0.7500\n",
      "Epoch 4/10\n",
      "4/4 [==============================] - 0s 0us/step - loss: 0.6856 - acc: 0.7500\n",
      "Epoch 5/10\n",
      "4/4 [==============================] - 0s 0us/step - loss: 0.6852 - acc: 0.7500\n",
      "Epoch 6/10\n",
      "4/4 [==============================] - 0s 0us/step - loss: 0.6849 - acc: 0.7500\n",
      "Epoch 7/10\n",
      "4/4 [==============================] - 0s 0us/step - loss: 0.6845 - acc: 0.7500\n",
      "Epoch 8/10\n",
      "4/4 [==============================] - 0s 0us/step - loss: 0.6842 - acc: 0.7500\n",
      "Epoch 9/10\n",
      "4/4 [==============================] - 0s 0us/step - loss: 0.6839 - acc: 0.7500\n",
      "Epoch 10/10\n",
      "4/4 [==============================] - 0s 0us/step - loss: 0.6836 - acc: 0.7500\n"
     ]
    },
    {
     "data": {
      "text/plain": [
       "<keras.callbacks.History at 0x20ad3916978>"
      ]
     },
     "execution_count": 61,
     "metadata": {},
     "output_type": "execute_result"
    }
   ],
   "source": [
    "# Train the model, iterating on the data in batches of 32 samples\n",
    "model.fit(data, labels, epochs=10, batch_size=32)"
   ]
  },
  {
   "cell_type": "code",
   "execution_count": null,
   "metadata": {},
   "outputs": [],
   "source": []
  },
  {
   "cell_type": "code",
   "execution_count": null,
   "metadata": {},
   "outputs": [],
   "source": []
  }
 ],
 "metadata": {
  "kernelspec": {
   "display_name": "Python 3",
   "language": "python",
   "name": "python3"
  },
  "language_info": {
   "codemirror_mode": {
    "name": "ipython",
    "version": 3
   },
   "file_extension": ".py",
   "mimetype": "text/x-python",
   "name": "python",
   "nbconvert_exporter": "python",
   "pygments_lexer": "ipython3",
   "version": "3.6.5"
  }
 },
 "nbformat": 4,
 "nbformat_minor": 2
}
