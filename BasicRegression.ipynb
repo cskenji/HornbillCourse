{
 "cells": [
  {
   "cell_type": "code",
   "execution_count": 33,
   "metadata": {},
   "outputs": [],
   "source": [
    "import numpy as np\n",
    "from sklearn import neighbors,svm,linear_model\n",
    "import random\n",
    "import matplotlib.pyplot as plt"
   ]
  },
  {
   "cell_type": "code",
   "execution_count": 27,
   "metadata": {},
   "outputs": [
    {
     "name": "stdout",
     "output_type": "stream",
     "text": [
      "[[0], [0.5], [1.0], [1.5], [2.0], [2.5], [3.0], [3.5], [4.0], [4.5], [5.0], [5.5], [6.0], [6.5], [7.0], [7.5], [8.0], [8.5], [9.0], [9.5], [10.0]]\n"
     ]
    }
   ],
   "source": [
    "features = []\n",
    "i = 0\n",
    "while (i <= 10 ) :\n",
    "    features.append([i])\n",
    "    i += 0.5\n",
    "print(features)"
   ]
  },
  {
   "cell_type": "code",
   "execution_count": 28,
   "metadata": {},
   "outputs": [],
   "source": [
    "rand = random.Random()"
   ]
  },
  {
   "cell_type": "code",
   "execution_count": 29,
   "metadata": {},
   "outputs": [
    {
     "name": "stdout",
     "output_type": "stream",
     "text": [
      "[0.7785728598787724, 1.9159394548470288, 3.7841431281412623, 5.199223171622476, 6.547865011695767, 8.297781367722983, 9.337567110334046, 10.948429977933387, 12.21886710688839, 14.449039336083175, 15.102641056012555, 16.62441462008738, 18.73897773820193, 20.443153974044677, 21.613439045274035, 23.467589434492904, 24.384524680393387, 25.798975578533785, 27.901062850276833, 28.97722046990684, 30.607402619919096]\n"
     ]
    }
   ],
   "source": [
    "labels = []\n",
    "for i in features : \n",
    "    b = rand.random()\n",
    "    labels.append( 3 * i[0] + b)\n",
    "print(labels)"
   ]
  },
  {
   "cell_type": "code",
   "execution_count": 30,
   "metadata": {},
   "outputs": [],
   "source": [
    "#clf = neighbors.KNeighborsClassifier(3,weights='distance')\n",
    "clf = linear_model.LinearRegression()"
   ]
  },
  {
   "cell_type": "code",
   "execution_count": 31,
   "metadata": {},
   "outputs": [
    {
     "data": {
      "text/plain": [
       "LinearRegression(copy_X=True, fit_intercept=True, n_jobs=1, normalize=False)"
      ]
     },
     "execution_count": 31,
     "metadata": {},
     "output_type": "execute_result"
    }
   ],
   "source": [
    "clf.fit(features,labels)"
   ]
  },
  {
   "cell_type": "code",
   "execution_count": 32,
   "metadata": {},
   "outputs": [
    {
     "data": {
      "text/plain": [
       "array([ 0.58254553,  2.08208541,  3.58162529,  5.08116517,  6.58070505,\n",
       "        8.08024492,  9.5797848 , 11.07932468, 12.57886456, 14.07840444,\n",
       "       15.57794431, 17.07748419, 18.57702407, 20.07656395, 21.57610383,\n",
       "       23.0756437 , 24.57518358, 26.07472346, 27.57426334, 29.07380322,\n",
       "       30.57334309])"
      ]
     },
     "execution_count": 32,
     "metadata": {},
     "output_type": "execute_result"
    }
   ],
   "source": [
    "clf.predict(features)"
   ]
  },
  {
   "cell_type": "code",
   "execution_count": null,
   "metadata": {},
   "outputs": [],
   "source": []
  }
 ],
 "metadata": {
  "kernelspec": {
   "display_name": "Python 3",
   "language": "python",
   "name": "python3"
  },
  "language_info": {
   "codemirror_mode": {
    "name": "ipython",
    "version": 3
   },
   "file_extension": ".py",
   "mimetype": "text/x-python",
   "name": "python",
   "nbconvert_exporter": "python",
   "pygments_lexer": "ipython3",
   "version": "3.6.5"
  }
 },
 "nbformat": 4,
 "nbformat_minor": 2
}
