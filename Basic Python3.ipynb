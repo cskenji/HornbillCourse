{
 "cells": [
  {
   "cell_type": "markdown",
   "metadata": {},
   "source": [
    "# Basic Python3\n",
    "\n",
    "ไพทอนเป็นภาษาโปรแกรมที่มีวัตถุประสงค์โดยทั่วไป (General Purposed Programming Language)\n",
    "\n",
    "ในการศึกษาไพทอนเบื้องต้น เราควรจะรู้จักโครงสร้างของภาษาดังต่อไปนี้\n",
    "\n",
    "1. Data Types\n",
    "2. Variables\n",
    "3. Operations, Input, Output\n",
    "4. Data Structures\n",
    "5. Control Flows\n",
    "6. Functions\n",
    "7. Classes\n"
   ]
  },
  {
   "cell_type": "markdown",
   "metadata": {},
   "source": [
    "## Data Types\n",
    "\n",
    "Data Types ในภาษาไพทอนพื้นฐานมีชนิดข้อมูลอยู่ด้วยกัน 5 ชนิดคือ\n",
    "\n",
    "1. String \n",
    "2. int\n",
    "3. float\n",
    "4. bool\n",
    "5. None เทียบเท่ากบ null ในภาษา C/C++ PHP Java เป็นต้น\n",
    "\n",
    "ในภาษาไพทอน วัตถุ (Object) หมายถึงสิ่งที่ไพทอนสามารถตีความได้ ซึ่งวัตถุทุกวัตถุจะมีชนิดข้อมูลกำกับไว้ เราสามารถตรวจสอบชนิดข้อมูลของวัตถุได้ โดยใช้ type()"
   ]
  },
  {
   "cell_type": "code",
   "execution_count": 1,
   "metadata": {},
   "outputs": [
    {
     "data": {
      "text/plain": [
       "str"
      ]
     },
     "execution_count": 1,
     "metadata": {},
     "output_type": "execute_result"
    }
   ],
   "source": [
    "type('hello')"
   ]
  },
  {
   "cell_type": "code",
   "execution_count": 2,
   "metadata": {},
   "outputs": [
    {
     "data": {
      "text/plain": [
       "int"
      ]
     },
     "execution_count": 2,
     "metadata": {},
     "output_type": "execute_result"
    }
   ],
   "source": [
    "type(13)"
   ]
  },
  {
   "cell_type": "code",
   "execution_count": 3,
   "metadata": {},
   "outputs": [
    {
     "data": {
      "text/plain": [
       "bool"
      ]
     },
     "execution_count": 3,
     "metadata": {},
     "output_type": "execute_result"
    }
   ],
   "source": [
    "type(True)"
   ]
  },
  {
   "cell_type": "code",
   "execution_count": 4,
   "metadata": {},
   "outputs": [
    {
     "data": {
      "text/plain": [
       "NoneType"
      ]
     },
     "execution_count": 4,
     "metadata": {},
     "output_type": "execute_result"
    }
   ],
   "source": [
    "type(None)"
   ]
  },
  {
   "cell_type": "code",
   "execution_count": 5,
   "metadata": {},
   "outputs": [
    {
     "data": {
      "text/plain": [
       "float"
      ]
     },
     "execution_count": 5,
     "metadata": {},
     "output_type": "execute_result"
    }
   ],
   "source": [
    "type(12.2)"
   ]
  },
  {
   "cell_type": "markdown",
   "metadata": {},
   "source": [
    "จากตัวอย่างข้างต้นนี้ โดยสรุปแล้วชนิดข้อมูลของวัตถุในไพทอนไม่ได้แตกต่างจากภาษาอื่น แต่ใน str มีแตกต่างจากภาษา C/C++ หรือ Java ดังนี้\n",
    "\n",
    "1. สามารถใช้เครื่องหมาย \" หรือ ' เพื่อสร้าง string ได้\n",
    "2. ไม่มีตัวแปรชนิดตัวอักษร\n",
    "3. เราสามารถสร้าง string ที่มีลักษณะเป็นหลายบรรทัดได้ โดยใช้ triple quote ( ''' หรือ \"\"\" ) ดังตัวอย่าง\n"
   ]
  },
  {
   "cell_type": "code",
   "execution_count": 6,
   "metadata": {},
   "outputs": [
    {
     "data": {
      "text/plain": [
       "'This is multiline String.\\nLine 2\\nLine 3'"
      ]
     },
     "execution_count": 6,
     "metadata": {},
     "output_type": "execute_result"
    }
   ],
   "source": [
    "\"\"\"This is multiline String.\n",
    "Line 2\n",
    "Line 3\"\"\""
   ]
  },
  {
   "cell_type": "markdown",
   "metadata": {},
   "source": [
    "นอกจากนี้เราสามารถไปศึกษาเพิ่มเติมของ API ต่างๆ ของชนิดข้อมูลได้ดังนี้\n",
    "\n",
    "- ชนิดข้อมูลพื้นฐาน - https://docs.python.org/3/library/stdtypes.html\n",
    "- การประมวลผลข้อความ - https://docs.python.org/3/library/text.html"
   ]
  },
  {
   "cell_type": "markdown",
   "metadata": {},
   "source": [
    "## Variables \n",
    "\n",
    "ชื่อตัวแปรในภาษาไพทอน ไม่ได้แตกต่างจากภาษา PHP หรือ C/C++ มากนัก แต่เนื่องจากภาษาไพทอนเป็นภาษาแบบพลวัต กล่าวคือ ตัวแปร 1 ตัวสามารถเก็บข้อมูลได้ไม่จำกัดชนิดข้อมูล โดยตัวแปรในไพทอนจะเปรียบเสมือนกับตัวชี้ไปยังวัตถุ (ข้อมูล) แทนที่จะเป็นการเก็บข้อมูลเช่นตัวแปรในภาษา C/C++ หรือ Java \n",
    "\n",
    "ในการประกาศ (นิยาม) ตัวแปร เราสามารถใช้ชื่อตัวแปรในลักษณะประเพณีนิยมได้ทันที โดยไม่สามารถสร้างตัวแปรที่ไม่มีการกำหนดค่าได้\n",
    "โดยการกำหนดค่าให้กับตัวแปร ใช้เครื่องหมาย = เช่นเดียวกับภาษาโปรแกรมโดยทั่วไป\n"
   ]
  },
  {
   "cell_type": "code",
   "execution_count": 7,
   "metadata": {},
   "outputs": [],
   "source": [
    "anInteger = 10\n",
    "_floatingValue = 12.5\n",
    "someString_ = \"hello\"\n",
    "FalseValue = False\n",
    "Empty = None"
   ]
  },
  {
   "cell_type": "markdown",
   "metadata": {},
   "source": [
    "แต่หากประกาศตัวแปรไม่ถูกต้อง หรือเรียกตัวแปรที่ไม่มีค่าระบบก็จะแจ้งข้อผิดพลาดดังนี้"
   ]
  },
  {
   "cell_type": "code",
   "execution_count": 8,
   "metadata": {},
   "outputs": [
    {
     "ename": "SyntaxError",
     "evalue": "invalid syntax (<ipython-input-8-0f14feb213ce>, line 1)",
     "traceback": [
      "\u001b[1;36m  File \u001b[1;32m\"<ipython-input-8-0f14feb213ce>\"\u001b[1;36m, line \u001b[1;32m1\u001b[0m\n\u001b[1;33m    1Hello\u001b[0m\n\u001b[1;37m         ^\u001b[0m\n\u001b[1;31mSyntaxError\u001b[0m\u001b[1;31m:\u001b[0m invalid syntax\n"
     ],
     "output_type": "error"
    }
   ],
   "source": [
    "1Hello"
   ]
  },
  {
   "cell_type": "code",
   "execution_count": null,
   "metadata": {},
   "outputs": [],
   "source": [
    "hello$world = 10"
   ]
  },
  {
   "cell_type": "code",
   "execution_count": null,
   "metadata": {},
   "outputs": [],
   "source": [
    "a = 10\n",
    "b = 20\n",
    "c = a + b\n",
    "d = ab + c"
   ]
  },
  {
   "cell_type": "markdown",
   "metadata": {},
   "source": [
    "## Operations , Input and Output\n",
    "\n",
    "ตัวดำเนินการต่างๆ ในภาษาไพทอน ไม่ได้แตกต่างจากในภาษา C/C++ Java หรือ PHP มากนัก แต่มีตัวดำเนินการบางชนิดที่แตกต่างกันเช่น\n",
    "\n",
    "1. ยกกำลัง ใช้เครื่องหมาย \\*\\* เช่น 5 \\*\\* 2 เท่ากับ 25\n",
    "2. การดำเนินการกับ Boolean ใช้เครื่องหมาย and or not แทนที่จะใช้ && || ! \n",
    "\n",
    "สำหรับตัวดำเนินการอื่นๆ สามารถดูได้จากในเว็บไซท์นี้ได้ครับ https://www.programiz.com/python-programming/operators\n",
    "\n"
   ]
  },
  {
   "cell_type": "code",
   "execution_count": null,
   "metadata": {},
   "outputs": [],
   "source": [
    "5 ** 2"
   ]
  },
  {
   "cell_type": "code",
   "execution_count": null,
   "metadata": {},
   "outputs": [],
   "source": [
    "True and False"
   ]
  },
  {
   "cell_type": "code",
   "execution_count": null,
   "metadata": {},
   "outputs": [],
   "source": [
    "True or False"
   ]
  },
  {
   "cell_type": "code",
   "execution_count": null,
   "metadata": {},
   "outputs": [],
   "source": [
    "not True"
   ]
  },
  {
   "cell_type": "code",
   "execution_count": null,
   "metadata": {},
   "outputs": [],
   "source": [
    "not True and False"
   ]
  },
  {
   "cell_type": "code",
   "execution_count": null,
   "metadata": {},
   "outputs": [],
   "source": [
    "not (True and False)"
   ]
  },
  {
   "cell_type": "markdown",
   "metadata": {},
   "source": [
    "### Input\n",
    "\n",
    "ในการรับข้อมูลผ่านทางคีย์บอร์ดสามารถใช้ input() โดยคำสั่งนี้จะได้ผลลัพธ์เป็น string เท่านั้น\n",
    "หากเราต้องการเขียนโปรแกรมรับชื่อ สามารถเขียนได้ดังนี้"
   ]
  },
  {
   "cell_type": "code",
   "execution_count": null,
   "metadata": {},
   "outputs": [],
   "source": [
    "name = input()"
   ]
  },
  {
   "cell_type": "code",
   "execution_count": null,
   "metadata": {},
   "outputs": [],
   "source": [
    "name = input(\"What is your name ? >\")"
   ]
  },
  {
   "cell_type": "markdown",
   "metadata": {},
   "source": [
    "### Output\n",
    "\n",
    "ในการเขียนโปรแกรมในแบบทั่วไป (ที่ไม่ได้ใช้ jupyter notebook แบบนี้) เราสามารถใช้คำสั่ง print() เพื่อใช้แสดงค่าต่างๆ ได้"
   ]
  },
  {
   "cell_type": "code",
   "execution_count": null,
   "metadata": {},
   "outputs": [],
   "source": [
    "print(name)"
   ]
  },
  {
   "cell_type": "code",
   "execution_count": null,
   "metadata": {},
   "outputs": [],
   "source": [
    "print (\"Your name is\",name)"
   ]
  },
  {
   "cell_type": "markdown",
   "metadata": {},
   "source": [
    "ในกรณีที่เราต้องการรับค่าข้อมูล โดยต้องการให้มีชนิดข้อมูลแบบอื่นนอกจาก str เราสามารถใช้ฟังก์ชัน\n",
    "\n",
    "int() float() หรือ str() เพื่อแปลงชนิดข้อมูลต่างๆ ให้เป็นชนิดข้อมูลตามฟังก์ชันที่เราใช้"
   ]
  },
  {
   "cell_type": "code",
   "execution_count": null,
   "metadata": {
    "scrolled": true
   },
   "outputs": [],
   "source": [
    "age = input(\"How old are you? \")\n",
    "age = int(age)\n",
    "thisYear = 2017\n",
    "birthYear = 2017 - age\n",
    "print(birthYear)"
   ]
  },
  {
   "cell_type": "markdown",
   "metadata": {},
   "source": [
    "## Data Structures"
   ]
  },
  {
   "cell_type": "markdown",
   "metadata": {},
   "source": [
    "ภาษาไพทอนนอกจากมีชนิดข้อมูลพื้นฐาน แต่ยังมีโครงสร้างข้อมูลที่เป็นโครงสร้าง ซึ่งไพทอนมีชนิดข้อมูลแบบโครงสร้างที่สำคัญดังนี้\n",
    "\n",
    "1. List\n",
    "2. Tuple\n",
    "3. Dictionary\n",
    "4. Set\n",
    "\n",
    "สามารถศึกษารายละเอียดเพิ่มเติมได้ที่ https://docs.python.org/3/tutorial/datastructures.html\n",
    "\n",
    "### List\n",
    "\n",
    "List คือชนิดข้อมูลแบบลำดับ (Sequential) มีลักษณะคล้ายคลึงกับ Array/ArrayList ในภาษา Java / PHP \n",
    "เราสามารถใช้งาน List ได้ดังตัวอย่าง\n",
    "หรือสามารถศึกษาข้อมูลเพิ่มเติมได้ที่ "
   ]
  },
  {
   "cell_type": "code",
   "execution_count": null,
   "metadata": {},
   "outputs": [],
   "source": [
    "l = [1,2,3,4,5]\n",
    "l"
   ]
  },
  {
   "cell_type": "code",
   "execution_count": null,
   "metadata": {},
   "outputs": [],
   "source": [
    "l.append(10)\n",
    "l"
   ]
  },
  {
   "cell_type": "code",
   "execution_count": null,
   "metadata": {},
   "outputs": [],
   "source": [
    "l.pop()\n",
    "l"
   ]
  },
  {
   "cell_type": "code",
   "execution_count": null,
   "metadata": {},
   "outputs": [],
   "source": [
    "l.remove(3)\n",
    "l"
   ]
  },
  {
   "cell_type": "code",
   "execution_count": null,
   "metadata": {},
   "outputs": [],
   "source": [
    "l = [1,2,3,4,5,6,7,8,9,10]\n",
    "print(l[3])\n",
    "print(l[-1])\n",
    "print(l[3:5])"
   ]
  },
  {
   "cell_type": "code",
   "execution_count": null,
   "metadata": {},
   "outputs": [],
   "source": [
    "print(l)\n",
    "l[2] = 'hello'\n",
    "print(l)"
   ]
  },
  {
   "cell_type": "markdown",
   "metadata": {},
   "source": [
    "### Tuple\n",
    "Tuple เหมือนกับ list แต่เป็นชนิดข้อมูลที่ไม่สามารถแก้ไขข้อมูลภายในได้"
   ]
  },
  {
   "cell_type": "code",
   "execution_count": null,
   "metadata": {},
   "outputs": [],
   "source": [
    "position = (19.234,29.123)"
   ]
  },
  {
   "cell_type": "code",
   "execution_count": null,
   "metadata": {},
   "outputs": [],
   "source": [
    "position"
   ]
  },
  {
   "cell_type": "code",
   "execution_count": null,
   "metadata": {},
   "outputs": [],
   "source": [
    "position[1]"
   ]
  },
  {
   "cell_type": "code",
   "execution_count": null,
   "metadata": {},
   "outputs": [],
   "source": [
    "position[2]"
   ]
  },
  {
   "cell_type": "code",
   "execution_count": null,
   "metadata": {},
   "outputs": [],
   "source": [
    "position[0]"
   ]
  },
  {
   "cell_type": "markdown",
   "metadata": {},
   "source": [
    "### Dictionary\n",
    "\n",
    "Dictionary เป็นชนิดข้อมูลเชิงโครงสร้างในลักษณะแบบเดียวกับ JSON"
   ]
  },
  {
   "cell_type": "code",
   "execution_count": null,
   "metadata": {},
   "outputs": [],
   "source": [
    "d = {}"
   ]
  },
  {
   "cell_type": "code",
   "execution_count": null,
   "metadata": {},
   "outputs": [],
   "source": [
    "type(d)"
   ]
  },
  {
   "cell_type": "code",
   "execution_count": null,
   "metadata": {},
   "outputs": [],
   "source": [
    "contact = {'john' : '1234', 'alice' : '5678'}\n",
    "contact"
   ]
  },
  {
   "cell_type": "code",
   "execution_count": null,
   "metadata": {},
   "outputs": [],
   "source": [
    "contact['alice']"
   ]
  },
  {
   "cell_type": "code",
   "execution_count": null,
   "metadata": {},
   "outputs": [],
   "source": [
    "contact['alice'] = '2314'\n",
    "contact"
   ]
  },
  {
   "cell_type": "code",
   "execution_count": null,
   "metadata": {},
   "outputs": [],
   "source": [
    "del contact['john']\n",
    "contact"
   ]
  },
  {
   "cell_type": "code",
   "execution_count": null,
   "metadata": {},
   "outputs": [],
   "source": [
    "contact['Brown'] = '3215'\n",
    "contact"
   ]
  },
  {
   "cell_type": "markdown",
   "metadata": {},
   "source": [
    "### Set\n",
    "\n",
    "Set เป็นชนิดข้อมูลเชิงโครงสร้างลักษณะเดียวกันกับ Set ทางคณิตศาสตร์ ซึ่งสามารถใช้ operator union intersec และ set operator ได้ \n",
    "โดย Set นี้จะเก็บเฉพาะข้อมูลที่ไม่ซ้ำกัน"
   ]
  },
  {
   "cell_type": "code",
   "execution_count": null,
   "metadata": {},
   "outputs": [],
   "source": [
    "s = {1,2,3,1,1,2,3,5}\n",
    "s"
   ]
  },
  {
   "cell_type": "code",
   "execution_count": null,
   "metadata": {},
   "outputs": [],
   "source": [
    "d = {4,5,6,7,8}\n",
    "d"
   ]
  },
  {
   "cell_type": "code",
   "execution_count": null,
   "metadata": {},
   "outputs": [],
   "source": [
    "s.union(d)"
   ]
  },
  {
   "cell_type": "code",
   "execution_count": null,
   "metadata": {},
   "outputs": [],
   "source": [
    "s.intersection(d)"
   ]
  },
  {
   "cell_type": "code",
   "execution_count": null,
   "metadata": {},
   "outputs": [],
   "source": [
    "s-d"
   ]
  },
  {
   "cell_type": "code",
   "execution_count": null,
   "metadata": {},
   "outputs": [],
   "source": [
    "s | d #union"
   ]
  },
  {
   "cell_type": "code",
   "execution_count": null,
   "metadata": {},
   "outputs": [],
   "source": [
    "s ^ d"
   ]
  },
  {
   "cell_type": "markdown",
   "metadata": {},
   "source": [
    "## Control Flow\n",
    "\n",
    "### if, if-else, if-else-if"
   ]
  },
  {
   "cell_type": "code",
   "execution_count": null,
   "metadata": {},
   "outputs": [],
   "source": [
    "a = 10\n",
    "b = 5"
   ]
  },
  {
   "cell_type": "code",
   "execution_count": null,
   "metadata": {},
   "outputs": [],
   "source": [
    "if(a > b) :\n",
    "    print('a มากกว่า b')"
   ]
  },
  {
   "cell_type": "code",
   "execution_count": null,
   "metadata": {},
   "outputs": [],
   "source": [
    "if( a < b ) :\n",
    "    print('a น้อยกว่า b')\n",
    "else :\n",
    "    print('a มากกว่าหรือเท่ากับ b')"
   ]
  },
  {
   "cell_type": "code",
   "execution_count": null,
   "metadata": {},
   "outputs": [],
   "source": [
    "if (a == b) :\n",
    "    print(' a เท่ากับ b ')\n",
    "elif ( a< b ) :\n",
    "    print('a น้อยกว่า b')\n",
    "else :\n",
    "    print('a มากกว่า b')"
   ]
  },
  {
   "cell_type": "markdown",
   "metadata": {},
   "source": [
    "### Nested If"
   ]
  },
  {
   "cell_type": "code",
   "execution_count": null,
   "metadata": {},
   "outputs": [],
   "source": [
    "a,b,c = 10,20,30  #Tuple extraction assignment\n",
    "print(a)\n",
    "print(b)\n",
    "print(c)"
   ]
  },
  {
   "cell_type": "code",
   "execution_count": null,
   "metadata": {},
   "outputs": [],
   "source": [
    "if( a > b ) :\n",
    "    if ( a > c ) :\n",
    "        print(\"A มากที่สุด\")\n",
    "    else :\n",
    "        print(\"C มากที่สุด\")\n",
    "else :\n",
    "    if( b > c) :\n",
    "        print(\"B มากที่สุด\")\n",
    "    else :\n",
    "        print(\"C มากที่สุด\")\n",
    "        "
   ]
  },
  {
   "cell_type": "markdown",
   "metadata": {},
   "source": [
    "## Functions"
   ]
  },
  {
   "cell_type": "code",
   "execution_count": null,
   "metadata": {},
   "outputs": [],
   "source": [
    "def add(a,b) :\n",
    "    return a+b\n",
    "\n",
    "add(5,10)"
   ]
  },
  {
   "cell_type": "code",
   "execution_count": null,
   "metadata": {},
   "outputs": [],
   "source": [
    "def addAndSubstract(a,b) :\n",
    "    return a+b,a-b  # Return as Tuple\n",
    "addAndSubstract(10,5)"
   ]
  },
  {
   "cell_type": "code",
   "execution_count": null,
   "metadata": {},
   "outputs": [],
   "source": [
    "r1,r2 = addAndSubstract(10,5)\n",
    "print(r1)\n",
    "print(r2)"
   ]
  },
  {
   "cell_type": "code",
   "execution_count": null,
   "metadata": {},
   "outputs": [],
   "source": [
    "def someFunction(name,age) :\n",
    "    print(name,age)\n",
    "\n",
    "someFunction(\"John\",15)\n",
    "someFunction(name=\"Alice\",age = 20)\n",
    "someFunction(age = 30,name = \"Brown\")"
   ]
  },
  {
   "cell_type": "code",
   "execution_count": null,
   "metadata": {},
   "outputs": [],
   "source": [
    "def numberChairsInRoom(row = 5, column = 5) :\n",
    "    print(row * column)\n",
    "    "
   ]
  },
  {
   "cell_type": "code",
   "execution_count": null,
   "metadata": {},
   "outputs": [],
   "source": [
    "numberChairsInRoom()"
   ]
  },
  {
   "cell_type": "code",
   "execution_count": null,
   "metadata": {},
   "outputs": [],
   "source": [
    "numberChairsInRoom(row = 10)"
   ]
  },
  {
   "cell_type": "code",
   "execution_count": null,
   "metadata": {},
   "outputs": [],
   "source": [
    "numberChairsInRoom(column = 3)"
   ]
  },
  {
   "cell_type": "markdown",
   "metadata": {},
   "source": [
    "## Classes"
   ]
  },
  {
   "cell_type": "code",
   "execution_count": null,
   "metadata": {},
   "outputs": [],
   "source": [
    "class Person(object) :  # สามารถเขียน class Person เฉยๆ ได้ ในวงเล็บคือการสืบทอด\n",
    "    #constructor\n",
    "    def __init__(self) :\n",
    "        self.name = None\n",
    "        self.age = None\n",
    "    \n",
    "    def birthYear(self,currentYear) :\n",
    "        return currentYear - self.age "
   ]
  },
  {
   "cell_type": "code",
   "execution_count": null,
   "metadata": {},
   "outputs": [],
   "source": [
    "p = Person()\n",
    "print(p.name,p.age)"
   ]
  },
  {
   "cell_type": "code",
   "execution_count": null,
   "metadata": {},
   "outputs": [],
   "source": [
    "p.name = \"John\"\n",
    "p.age = 15\n",
    "p.birthYear(2018)"
   ]
  },
  {
   "cell_type": "code",
   "execution_count": null,
   "metadata": {},
   "outputs": [],
   "source": [
    "class Student(Person) :\n",
    "    \n",
    "    def __init__(self) :\n",
    "        super().__init__()\n",
    "        self.gpa = 0\n",
    "\n",
    "s = Student()\n",
    "print(s.name,s.age,s.gpa)"
   ]
  }
 ],
 "metadata": {
  "kernelspec": {
   "display_name": "Python 3",
   "language": "python",
   "name": "python3"
  },
  "language_info": {
   "codemirror_mode": {
    "name": "ipython",
    "version": 3
   },
   "file_extension": ".py",
   "mimetype": "text/x-python",
   "name": "python",
   "nbconvert_exporter": "python",
   "pygments_lexer": "ipython3",
   "version": "3.6.5"
  }
 },
 "nbformat": 4,
 "nbformat_minor": 2
}
