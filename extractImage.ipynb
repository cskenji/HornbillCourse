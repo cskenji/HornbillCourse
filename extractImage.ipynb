{
 "cells": [
  {
   "cell_type": "code",
   "execution_count": 1,
   "metadata": {},
   "outputs": [],
   "source": [
    "import os"
   ]
  },
  {
   "cell_type": "code",
   "execution_count": 3,
   "metadata": {},
   "outputs": [
    {
     "data": {
      "text/plain": [
       "'.\\\\cars\\\\img'"
      ]
     },
     "execution_count": 3,
     "metadata": {},
     "output_type": "execute_result"
    }
   ],
   "source": [
    "imgPath = os.path.join(\".\",\"cars\",\"img\")\n",
    "imgPath"
   ]
  },
  {
   "cell_type": "code",
   "execution_count": 4,
   "metadata": {},
   "outputs": [
    {
     "data": {
      "text/plain": [
       "'.\\\\cars\\\\rects'"
      ]
     },
     "execution_count": 4,
     "metadata": {},
     "output_type": "execute_result"
    }
   ],
   "source": [
    "dstPath = os.path.join(\".\",\"cars\",'rects')\n",
    "dstPath"
   ]
  },
  {
   "cell_type": "code",
   "execution_count": 5,
   "metadata": {},
   "outputs": [
    {
     "data": {
      "text/plain": [
       "['S_8167620536848.jpg',\n",
       " 'S_8167620604457.jpg',\n",
       " 'S_8167620631166.jpg',\n",
       " 'S_8167620725509.jpg',\n",
       " 'S_8167620760584.jpg',\n",
       " 'S_8167620916404.jpg',\n",
       " 'S_8167620961483.jpg',\n",
       " 'S_8167621010409.jpg',\n",
       " 'S_8167621046436.jpg',\n",
       " 'S_8167621073957.jpg',\n",
       " 'S_8167621116854.jpg',\n",
       " 'S_8167621266993.jpg',\n",
       " 'S_8167621349883.jpg']"
      ]
     },
     "execution_count": 5,
     "metadata": {},
     "output_type": "execute_result"
    }
   ],
   "source": [
    "files = os.listdir(imgPath)\n",
    "files"
   ]
  },
  {
   "cell_type": "code",
   "execution_count": 9,
   "metadata": {},
   "outputs": [],
   "source": [
    "import matplotlib.pyplot as plt\n",
    "import cv2 as cv"
   ]
  },
  {
   "cell_type": "code",
   "execution_count": 35,
   "metadata": {},
   "outputs": [],
   "source": [
    "for file in files :\n",
    "    try : \n",
    "        filePath = os.path.join(imgPath,file)\n",
    "        image_ori = cv.imread(filePath)\n",
    "        image = cv.cvtColor(image_ori,cv.COLOR_RGB2GRAY)\n",
    "    except :\n",
    "        continue\n",
    "        \n",
    "    thresImage = cv.adaptiveThreshold(\n",
    "        image,255,cv.ADAPTIVE_THRESH_GAUSSIAN_C,cv.THRESH_BINARY,31,5\n",
    "    )\n",
    "    _,contours,_ = cv.findContours(thresImage, cv.RETR_TREE, cv.CHAIN_APPROX_SIMPLE);\n",
    "\n",
    "    filename,extension = file.split('.')\n",
    "    \n",
    "    x,y,w,h = 0,0,0,0\n",
    "    j = 1\n",
    "    for i in contours : \n",
    "        newName = \"{}_{:03}.jpg\".format(filename,j)\n",
    "        area = cv.contourArea(i);\n",
    "        if area > 1000 :\n",
    "            [x,y,w,h] = cv.boundingRect(i);\n",
    "            outputRect = image_ori[y:y+h,x:x+w,:]\n",
    "            cv.imwrite(os.path.join(dstPath,newName),outputRect)\n",
    "            j+=1\n"
   ]
  },
  {
   "cell_type": "code",
   "execution_count": 28,
   "metadata": {},
   "outputs": [
    {
     "data": {
      "text/plain": [
       "'001'"
      ]
     },
     "execution_count": 28,
     "metadata": {},
     "output_type": "execute_result"
    }
   ],
   "source": [
    "\"{:03}\".format(1)"
   ]
  }
 ],
 "metadata": {
  "kernelspec": {
   "display_name": "Python 3",
   "language": "python",
   "name": "python3"
  },
  "language_info": {
   "codemirror_mode": {
    "name": "ipython",
    "version": 3
   },
   "file_extension": ".py",
   "mimetype": "text/x-python",
   "name": "python",
   "nbconvert_exporter": "python",
   "pygments_lexer": "ipython3",
   "version": "3.6.5"
  }
 },
 "nbformat": 4,
 "nbformat_minor": 2
}
